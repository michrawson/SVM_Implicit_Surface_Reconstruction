{
 "cells": [
  {
   "cell_type": "code",
   "execution_count": 1,
   "metadata": {
    "collapsed": false
   },
   "outputs": [
    {
     "name": "stdout",
     "output_type": "stream",
     "text": [
      "SCIKIT: mean square test error: 359.02371662\n",
      "Custom: mean square test error: 359.02371662\n"
     ]
    },
    {
     "name": "stderr",
     "output_type": "stream",
     "text": [
      "/Users/mich/anaconda/lib/python2.7/site-packages/IPython/kernel/__init__.py:13: ShimWarning: The `IPython.kernel` package has been deprecated. You should import from ipykernel or jupyter_client instead.\n",
      "  \"You should import from ipykernel or jupyter_client instead.\", ShimWarning)\n"
     ]
    }
   ],
   "source": [
    "from sklearn.datasets import make_regression\n",
    "from sklearn.cross_validation import train_test_split\n",
    "from sklearn.kernel_ridge import KernelRidge\n",
    "import sys\n",
    "import numpy as np\n",
    "\n",
    "def kernel(a,b):\n",
    "    return np.dot(a,b)\n",
    "\n",
    "assert kernel([1,1],[1,-1]) == 0\n",
    "\n",
    "def kernel_ridge_regression(X_train,y_train, Lambda):\n",
    "    y_train = np.matrix(y_train).transpose()\n",
    "    K = np.matrix(np.zeros( (len(X_train), len(X_train)) ))\n",
    "    for i in range(0, len(X_train)):\n",
    "        for j in range(0, len(X_train)):\n",
    "            K[ (i,j) ] = kernel(X_train[i], X_train[j])\n",
    "    alpha = np.linalg.inv( K + (Lambda*np.identity(len(X_train))) )* y_train\n",
    "    alpha = np.squeeze(np.asarray(alpha))\n",
    "    def f(x):\n",
    "        sum = 0.\n",
    "        for i in range(0,len(X_train)):\n",
    "            sum += alpha[i] * kernel(X_train[i],x)\n",
    "        return sum\n",
    "    return f\n",
    "\n",
    "def score(f, X_test, y_test):\n",
    "    error = 0.\n",
    "    for i in range(0, len(X_test)):\n",
    "        prediction = f(X_test[i])\n",
    "        if isinstance(prediction,np.ndarray):\n",
    "            prediction = prediction[0]\n",
    "        error += pow((prediction - y_test[i]),2)\n",
    "    return error/len(X_test)\n",
    "\n",
    "# Make up data\n",
    "X, y, true_coefficient = make_regression(n_samples=80, n_features=30, n_informative=20, noise=10, coef=True,\n",
    "                                         random_state=20140210)\n",
    "X_train, X_test, y_train, y_test = train_test_split(X, y, random_state=5)\n",
    "\n",
    "# Run Scikit Kernel Ridge Regression\n",
    "clf = KernelRidge()\n",
    "clf.fit(X_train,y_train)\n",
    "print 'SCIKIT: mean square test error:', score( clf.predict, X_test, y_test)\n",
    "\n",
    "# Run this implementation\n",
    "f = kernel_ridge_regression(X_train,y_train,1)\n",
    "score_val = score(f, X_test, y_test)\n",
    "print 'Custom: mean square test error:', score_val\n"
   ]
  },
  {
   "cell_type": "code",
   "execution_count": null,
   "metadata": {
    "collapsed": true
   },
   "outputs": [],
   "source": []
  }
 ],
 "metadata": {
  "kernelspec": {
   "display_name": "Python 2",
   "language": "python",
   "name": "python2"
  },
  "language_info": {
   "codemirror_mode": {
    "name": "ipython",
    "version": 2
   },
   "file_extension": ".py",
   "mimetype": "text/x-python",
   "name": "python",
   "nbconvert_exporter": "python",
   "pygments_lexer": "ipython2",
   "version": "2.7.10"
  }
 },
 "nbformat": 4,
 "nbformat_minor": 0
}
